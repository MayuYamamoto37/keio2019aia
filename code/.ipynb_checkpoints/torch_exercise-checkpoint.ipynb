{
 "cells": [
  {
   "cell_type": "code",
   "execution_count": 1,
   "metadata": {},
   "outputs": [],
   "source": [
    "import torch as t"
   ]
  },
  {
   "cell_type": "code",
   "execution_count": 8,
   "metadata": {},
   "outputs": [
    {
     "name": "stdout",
     "output_type": "stream",
     "text": [
      "torch.Size([5, 3])\n",
      "torch.Size([1, 5, 3])\n"
     ]
    }
   ],
   "source": [
    "#1. Create a 2D tensor and then add a dimension of size 1 at dimension 0.\n",
    "a = t.rand(5,3)\n",
    "print(a.size())\n",
    "b = a.unsqueeze(0)\n",
    "#b= a[None, :, :]\n",
    "print(b.size())"
   ]
  },
  {
   "cell_type": "code",
   "execution_count": 9,
   "metadata": {},
   "outputs": [
    {
     "name": "stdout",
     "output_type": "stream",
     "text": [
      "torch.Size([5, 3])\n"
     ]
    }
   ],
   "source": [
    "#2. Remove the extra dimension you just added to the previous tensor.\n",
    "c = t.squeeze(b)\n",
    "print(c.size())"
   ]
  },
  {
   "cell_type": "code",
   "execution_count": 11,
   "metadata": {},
   "outputs": [
    {
     "data": {
      "text/plain": [
       "tensor([[4.2860, 6.0244, 5.0962],\n",
       "        [4.7135, 4.5991, 6.6790],\n",
       "        [6.0712, 6.2566, 5.0568],\n",
       "        [5.1445, 5.2984, 4.6992],\n",
       "        [3.8444, 3.0135, 6.0217]])"
      ]
     },
     "execution_count": 11,
     "metadata": {},
     "output_type": "execute_result"
    }
   ],
   "source": [
    "#3. Create a random tensor of shape 5x3 in the clopen interval [3, 7).\n",
    "3 + t.rand(5,3) * (7-3)"
   ]
  },
  {
   "cell_type": "code",
   "execution_count": 13,
   "metadata": {},
   "outputs": [
    {
     "data": {
      "text/plain": [
       "tensor([[ 0.4855, -0.5540, -0.6121],\n",
       "        [ 1.3346,  1.1136, -0.4362],\n",
       "        [ 0.4751, -1.5877, -1.0863],\n",
       "        [-0.3176, -0.1487, -0.4847],\n",
       "        [-0.5065,  0.0297,  1.3991]])"
      ]
     },
     "execution_count": 13,
     "metadata": {},
     "output_type": "execute_result"
    }
   ],
   "source": [
    "#4. Create a tensor with values from the standard normal distribution (mean 0, standard deviation 1).\n",
    "t.randn(5,3)"
   ]
  },
  {
   "cell_type": "code",
   "execution_count": 14,
   "metadata": {},
   "outputs": [
    {
     "data": {
      "text/plain": [
       "tensor([[0],\n",
       "        [1],\n",
       "        [2],\n",
       "        [4]])"
      ]
     },
     "execution_count": 14,
     "metadata": {},
     "output_type": "execute_result"
    }
   ],
   "source": [
    "#5. Retrieve the indices of all non-zero elements in the tensor torch.Tensor([1, 1, 1, 0, 1]).\n",
    "a = t.tensor([1,1,1,0,1])\n",
    "t.nonzero(a)"
   ]
  },
  {
   "cell_type": "code",
   "execution_count": 16,
   "metadata": {},
   "outputs": [
    {
     "data": {
      "text/plain": [
       "tensor([[0.6359, 0.6359, 0.6359, 0.6359],\n",
       "        [0.5964, 0.5964, 0.5964, 0.5964],\n",
       "        [0.5591, 0.5591, 0.5591, 0.5591]])"
      ]
     },
     "execution_count": 16,
     "metadata": {},
     "output_type": "execute_result"
    }
   ],
   "source": [
    "#6. Create a random tensor of size (3, 1) and then horizontally stack four copies together.\n",
    "a = t.rand(3,1)\n",
    "a.expand(3,4)"
   ]
  },
  {
   "cell_type": "code",
   "execution_count": 18,
   "metadata": {},
   "outputs": [
    {
     "name": "stdout",
     "output_type": "stream",
     "text": [
      "tensor([[[0.5464, 0.6679, 0.9323, 0.0371, 0.3698],\n",
      "         [0.6832, 0.0688, 0.9666, 0.7807, 0.6676],\n",
      "         [0.1359, 0.1453, 0.2751, 0.5639, 0.9992],\n",
      "         [0.0909, 0.3747, 0.4016, 0.1515, 0.6646]],\n",
      "\n",
      "        [[0.7060, 0.9490, 0.4904, 0.6130, 0.8414],\n",
      "         [0.4040, 0.1546, 0.3975, 0.9106, 0.6837],\n",
      "         [0.7326, 0.1395, 0.6510, 0.5489, 0.0545],\n",
      "         [0.4750, 0.8388, 0.2791, 0.8317, 0.7273]],\n",
      "\n",
      "        [[0.6737, 0.5627, 0.3380, 0.1638, 0.5629],\n",
      "         [0.0040, 0.1380, 0.5337, 0.5186, 0.6100],\n",
      "         [0.0307, 0.3899, 0.4638, 0.7458, 0.4620],\n",
      "         [0.2242, 0.0294, 0.3814, 0.0841, 0.6391]]])\n",
      "tensor([[[0.0447, 0.3123, 0.7000, 0.4778],\n",
      "         [0.2257, 0.8313, 0.7503, 0.5282],\n",
      "         [0.4502, 0.4198, 0.2536, 0.4614],\n",
      "         [0.8026, 0.8173, 0.3215, 0.7842],\n",
      "         [0.9641, 0.7427, 0.3269, 0.3357]],\n",
      "\n",
      "        [[0.2170, 0.0643, 0.3347, 0.9908],\n",
      "         [0.0377, 0.5646, 0.7201, 0.3558],\n",
      "         [0.2073, 0.6563, 0.9174, 0.1239],\n",
      "         [0.0212, 0.0394, 0.0698, 0.7459],\n",
      "         [0.9821, 0.8609, 0.5027, 0.0968]],\n",
      "\n",
      "        [[0.0225, 0.4554, 0.3925, 0.5425],\n",
      "         [0.4160, 0.3525, 0.0247, 0.3147],\n",
      "         [0.8658, 0.2966, 0.7542, 0.0188],\n",
      "         [0.8108, 0.2406, 0.5722, 0.1653],\n",
      "         [0.4796, 0.3145, 0.1213, 0.0320]]])\n"
     ]
    },
    {
     "data": {
      "text/plain": [
       "tensor([[[0.9812, 1.4221, 1.2528, 1.1972],\n",
       "         [1.7516, 1.8102, 1.2442, 1.6452],\n",
       "         [1.5787, 1.4816, 0.7818, 1.0463],\n",
       "         [1.0318, 1.1258, 0.7126, 0.7686]],\n",
       "\n",
       "        [[1.1299, 1.6515, 1.8353, 1.6366],\n",
       "         [0.8666, 0.9986, 1.0184, 1.2499],\n",
       "         [0.3644, 0.6217, 1.0087, 1.2709],\n",
       "         [0.9244, 1.3462, 1.4427, 1.4945]],\n",
       "\n",
       "        [[0.9447, 0.8218, 0.6953, 0.5940],\n",
       "         [1.2327, 0.5254, 0.7783, 0.1609],\n",
       "         [1.3907, 0.6137, 0.8543, 0.2861],\n",
       "         [0.7222, 0.4468, 0.5021, 0.1724]]])"
      ]
     },
     "execution_count": 18,
     "metadata": {},
     "output_type": "execute_result"
    }
   ],
   "source": [
    "#7. Return the batch matrix-matrix product of two three-dimensional matrices (a = torch.rand(3, 4, 5), b = torch.rand(3, 5, 4)).\n",
    "a = t.rand(3, 4, 5)\n",
    "print(a)\n",
    "b = t.rand(3, 5, 4)\n",
    "print(b)\n",
    "t.bmm(a,b)"
   ]
  },
  {
   "cell_type": "code",
   "execution_count": 24,
   "metadata": {},
   "outputs": [
    {
     "name": "stdout",
     "output_type": "stream",
     "text": [
      "torch.Size([3, 5, 4])\n"
     ]
    },
    {
     "data": {
      "text/plain": [
       "tensor([[[0.2506, 0.1710, 0.6839, 0.6102],\n",
       "         [1.0022, 0.6537, 1.0765, 1.1805],\n",
       "         [1.0024, 0.6016, 1.2429, 0.8100],\n",
       "         [0.7346, 0.6913, 0.9321, 1.3006]],\n",
       "\n",
       "        [[0.6694, 0.4663, 0.7396, 0.7422],\n",
       "         [1.1580, 0.8036, 1.0376, 0.9234],\n",
       "         [1.4873, 1.0294, 2.0642, 1.9223],\n",
       "         [0.8240, 0.5234, 1.0170, 1.0139]],\n",
       "\n",
       "        [[1.0214, 0.7503, 1.4625, 1.2071],\n",
       "         [1.2167, 0.8181, 1.6554, 1.4444],\n",
       "         [1.1583, 0.8230, 1.3850, 1.2275],\n",
       "         [0.8494, 0.5262, 1.4866, 1.1990]]])"
      ]
     },
     "execution_count": 24,
     "metadata": {},
     "output_type": "execute_result"
    }
   ],
   "source": [
    "#8. Return the batch matrix-matrix product of a 3D matrix and a 2D matrix (a = torch.rand(3, 4, 5), b = torch.rand(5, 4)).\n",
    "a = t.rand(3, 4, 5)\n",
    "b = t.rand(5, 4)\n",
    "print(b.unsqueeze(0).expand(a.size(0), *b.size()).size())\n",
    "t.bmm(a, b.unsqueeze(0).expand(a.size(0), *b.size()))"
   ]
  },
  {
   "cell_type": "code",
   "execution_count": null,
   "metadata": {},
   "outputs": [],
   "source": []
  }
 ],
 "metadata": {
  "kernelspec": {
   "display_name": "Python 3",
   "language": "python",
   "name": "python3"
  },
  "language_info": {
   "codemirror_mode": {
    "name": "ipython",
    "version": 3
   },
   "file_extension": ".py",
   "mimetype": "text/x-python",
   "name": "python",
   "nbconvert_exporter": "python",
   "pygments_lexer": "ipython3",
   "version": "3.7.4"
  }
 },
 "nbformat": 4,
 "nbformat_minor": 4
}
